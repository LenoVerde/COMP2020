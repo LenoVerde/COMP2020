{
 "cells": [
  {
   "cell_type": "code",
   "execution_count": null,
   "metadata": {},
   "outputs": [],
   "source": [
    "import matplotlib.pyplot as plt\n",
    "\n",
    "#図の大きさとフォントサイズを設定\n",
    "plt.rcParams[\"font.size\"] = 20\n",
    "plt.rcParams['figure.figsize'] = 12,10 \n",
    " \n",
    " \n",
    "def do_logistic_growth(a,r,s,n0,p0,t):\n",
    "    nt= n0\n",
    "    pt=p0\n",
    "    datax=[]\n",
    "    datay=[]\n",
    "    dataz=[]\n",
    " \n",
    "    datax.append(0)\n",
    "    datay.append(nt)\n",
    "    dataz.append(pt)\n",
    " \n",
    "    for i in range(t):\n",
    "        copynt=nt\n",
    "        nt= nt+a*nt*(r-pt)\n",
    "        pt=pt+a*pt*(copynt-s)\n",
    "        datax.append(i+1)\n",
    "        datay.append(nt)\n",
    "        dataz.append(pt)\n",
    " \n",
    "    return(datax, datay, dataz)\n",
    "\n",
    "dataX, dataY, dataZ = do_logistic_growth(0.2,0.1,0.1,0.11,0.1,1000)\n",
    "\n",
    "plt.plot(dataX, dataY,label = \"Prey\")\n",
    "plt.plot(dataX, dataZ,label = \"Predator\")\n",
    "\n",
    "plt.xlabel(\"time step\")\n",
    "plt.ylabel(\"population density\")\n",
    "plt.legend(loc = 'upper left')\n",
    "plt.show()"
   ]
  },
  {
   "cell_type": "code",
   "execution_count": null,
   "metadata": {},
   "outputs": [],
   "source": []
  }
 ],
 "metadata": {
  "kernelspec": {
   "display_name": "Python 3",
   "language": "python",
   "name": "python3"
  },
  "language_info": {
   "codemirror_mode": {
    "name": "ipython",
    "version": 3
   },
   "file_extension": ".py",
   "mimetype": "text/x-python",
   "name": "python",
   "nbconvert_exporter": "python",
   "pygments_lexer": "ipython3",
   "version": "3.7.4"
  }
 },
 "nbformat": 4,
 "nbformat_minor": 2
}
