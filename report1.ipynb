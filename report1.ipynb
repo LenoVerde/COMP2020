{
 "cells": [
  {
   "cell_type": "code",
   "execution_count": 3,
   "metadata": {},
   "outputs": [
    {
     "name": "stdout",
     "output_type": "stream",
     "text": [
      "0\t1.0\n",
      "1\t2.485\n",
      "2\t6.119871625\n",
      "3\t14.737886631902798\n",
      "4\t33.58663704413471\n",
      "5\t67.04565979132015\n",
      "6\t100.18734202549874\n",
      "7\t99.90580253173287\n",
      "8\t100.04696563668814\n",
      "9\t99.9764840950905\n",
      "10\t100.011749657488\n",
      "11\t99.99412310043923\n",
      "12\t100.00293793171116\n",
      "13\t99.99853090467279\n",
      "14\t100.00073451528999\n",
      "15\t99.99963273426232\n",
      "16\t100.00018363084557\n",
      "17\t99.9999081840714\n",
      "18\t100.00004590783784\n",
      "19\t99.99997704604947\n",
      "20\t100.00001147696736\n",
      "21\t99.99999426151435\n",
      "22\t100.00000286924234\n",
      "23\t99.99999856537872\n",
      "24\t100.0000007173106\n",
      "25\t99.9999996413447\n",
      "26\t100.00000017932764\n",
      "27\t99.99999991033619\n",
      "28\t100.0000000448319\n",
      "29\t99.99999997758404\n",
      "30\t100.00000001120797\n"
     ]
    }
   ],
   "source": [
    "Nt = 1.0\n",
    "r = 1.5\n",
    "K = 100\n",
    "T = 30\n",
    "print(\"0\" + \"\\t\" + str(Nt))\n",
    "for i in range(T):\n",
    "    Nt = Nt + r * Nt * (1.0 - Nt / K)\n",
    "    print(str(i+1) + \"\\t\" + str(Nt))"
   ]
  },
  {
   "cell_type": "code",
   "execution_count": null,
   "metadata": {},
   "outputs": [],
   "source": []
  }
 ],
 "metadata": {
  "kernelspec": {
   "display_name": "Python 3",
   "language": "python",
   "name": "python3"
  },
  "language_info": {
   "codemirror_mode": {
    "name": "ipython",
    "version": 3
   },
   "file_extension": ".py",
   "mimetype": "text/x-python",
   "name": "python",
   "nbconvert_exporter": "python",
   "pygments_lexer": "ipython3",
   "version": "3.7.4"
  }
 },
 "nbformat": 4,
 "nbformat_minor": 2
}
